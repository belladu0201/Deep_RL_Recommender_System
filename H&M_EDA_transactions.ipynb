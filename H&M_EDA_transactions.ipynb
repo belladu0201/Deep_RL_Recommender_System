{
  "cells": [
    {
      "cell_type": "markdown",
      "metadata": {
        "id": "view-in-github",
        "colab_type": "text"
      },
      "source": [
        "<a href=\"https://colab.research.google.com/github/belladu0201/Deep_RL_Recommender_System/blob/main/H%26M_EDA_transactions.ipynb\" target=\"_parent\"><img src=\"https://colab.research.google.com/assets/colab-badge.svg\" alt=\"Open In Colab\"/></a>"
      ]
    },
    {
      "cell_type": "code",
      "execution_count": null,
      "metadata": {
        "id": "33636c4b"
      },
      "outputs": [],
      "source": [
        "import pandas as pd\n",
        "import numpy as np\n",
        "import os"
      ],
      "id": "33636c4b"
    },
    {
      "cell_type": "code",
      "execution_count": null,
      "metadata": {
        "id": "G8GqYWsk5v_3"
      },
      "outputs": [],
      "source": [
        "## mount the drive\n",
        "from google.colab import drive\n",
        "drive.mount('/content/drive')\n",
        "PROJ_DIR = '/content/drive/MyDrive/HM/'\n",
        "%cd $PROJ_DIR\n",
        "! ls"
      ],
      "id": "G8GqYWsk5v_3"
    },
    {
      "cell_type": "code",
      "source": [
        "# Mount Google Drive folder\n",
        "from google.colab import drive\n",
        "drive.mount('/content/drive')\n",
        "PROJ_DIR = '/content/drive/MyDrive/Colab Notebooks/AIPI 531/Final Project/SA2C_code/HM/'\n",
        "# change current directory after mounting\n",
        "%cd $PROJ_DIR\n",
        "! ls"
      ],
      "metadata": {
        "colab": {
          "base_uri": "https://localhost:8080/"
        },
        "id": "DNbqQBVXiq49",
        "outputId": "45da7075-e762-43b8-f6ad-a5a871ae448e"
      },
      "id": "DNbqQBVXiq49",
      "execution_count": null,
      "outputs": [
        {
          "output_type": "stream",
          "name": "stdout",
          "text": [
            "Drive already mounted at /content/drive; to attempt to forcibly remount, call drive.mount(\"/content/drive\", force_remount=True).\n",
            "/content/drive/.shortcut-targets-by-id/1HIjrgz2KrB4wLCZasrYeKTXkE-b6--I_/HM\n",
            " data\t\t\t       replay_buffer.py\n",
            "'H&M_EDA_articles.ipynb'       report_SNQN_FeatureVec.txt\n",
            "'H&M_EDA_customer.ipynb'       SASRecModules.py\n",
            "'H&M_EDA_transactions.ipynb'   SNQN_new.py\n",
            " NextItNetModules.py\t       SNQN.py\n",
            " pop_dict.txt\t\t       SNQN_RR_FeatureVec_new.py\n",
            " pop.py\t\t\t       SNQN_RR_FeatureVec.py\n",
            " pre_processing.py\t       utility.py\n",
            " __pycache__\n"
          ]
        }
      ]
    },
    {
      "cell_type": "code",
      "source": [
        "hm_df = pd.read_csv(os.path.join(PROJ_DIR,'transactions_train_small.csv')) #path named changed!"
      ],
      "metadata": {
        "id": "AL0nqm5FBRqv"
      },
      "id": "AL0nqm5FBRqv",
      "execution_count": null,
      "outputs": []
    },
    {
      "cell_type": "code",
      "execution_count": null,
      "metadata": {
        "id": "59c1b8ea",
        "outputId": "59a2fd95-377f-48e9-ff71-e810196089e9",
        "scrolled": true,
        "colab": {
          "base_uri": "https://localhost:8080/",
          "height": 206
        }
      },
      "outputs": [
        {
          "output_type": "execute_result",
          "data": {
            "text/plain": [
              "        t_dat                                        customer_id  article_id  \\\n",
              "0  2020-07-06  08034f513a8546bdb3596f5f7b6fac9d211bbfb93f275a...   843872002   \n",
              "1  2020-07-06  08034f513a8546bdb3596f5f7b6fac9d211bbfb93f275a...   579541087   \n",
              "2  2020-07-06  08034f513a8546bdb3596f5f7b6fac9d211bbfb93f275a...   870611003   \n",
              "3  2020-07-06  08179d98b1e0af73ef3adf3c779ab8fde0e990f831e60b...   843642002   \n",
              "4  2020-07-06  08179d98b1e0af73ef3adf3c779ab8fde0e990f831e60b...   649439006   \n",
              "\n",
              "      price  sales_channel_id  \n",
              "0  0.016932                 2  \n",
              "1  0.016932                 2  \n",
              "2  0.033881                 2  \n",
              "3  0.042356                 1  \n",
              "4  0.022017                 1  "
            ],
            "text/html": [
              "\n",
              "  <div id=\"df-65933b40-5480-4964-861c-96b36e663979\">\n",
              "    <div class=\"colab-df-container\">\n",
              "      <div>\n",
              "<style scoped>\n",
              "    .dataframe tbody tr th:only-of-type {\n",
              "        vertical-align: middle;\n",
              "    }\n",
              "\n",
              "    .dataframe tbody tr th {\n",
              "        vertical-align: top;\n",
              "    }\n",
              "\n",
              "    .dataframe thead th {\n",
              "        text-align: right;\n",
              "    }\n",
              "</style>\n",
              "<table border=\"1\" class=\"dataframe\">\n",
              "  <thead>\n",
              "    <tr style=\"text-align: right;\">\n",
              "      <th></th>\n",
              "      <th>t_dat</th>\n",
              "      <th>customer_id</th>\n",
              "      <th>article_id</th>\n",
              "      <th>price</th>\n",
              "      <th>sales_channel_id</th>\n",
              "    </tr>\n",
              "  </thead>\n",
              "  <tbody>\n",
              "    <tr>\n",
              "      <th>0</th>\n",
              "      <td>2020-07-06</td>\n",
              "      <td>08034f513a8546bdb3596f5f7b6fac9d211bbfb93f275a...</td>\n",
              "      <td>843872002</td>\n",
              "      <td>0.016932</td>\n",
              "      <td>2</td>\n",
              "    </tr>\n",
              "    <tr>\n",
              "      <th>1</th>\n",
              "      <td>2020-07-06</td>\n",
              "      <td>08034f513a8546bdb3596f5f7b6fac9d211bbfb93f275a...</td>\n",
              "      <td>579541087</td>\n",
              "      <td>0.016932</td>\n",
              "      <td>2</td>\n",
              "    </tr>\n",
              "    <tr>\n",
              "      <th>2</th>\n",
              "      <td>2020-07-06</td>\n",
              "      <td>08034f513a8546bdb3596f5f7b6fac9d211bbfb93f275a...</td>\n",
              "      <td>870611003</td>\n",
              "      <td>0.033881</td>\n",
              "      <td>2</td>\n",
              "    </tr>\n",
              "    <tr>\n",
              "      <th>3</th>\n",
              "      <td>2020-07-06</td>\n",
              "      <td>08179d98b1e0af73ef3adf3c779ab8fde0e990f831e60b...</td>\n",
              "      <td>843642002</td>\n",
              "      <td>0.042356</td>\n",
              "      <td>1</td>\n",
              "    </tr>\n",
              "    <tr>\n",
              "      <th>4</th>\n",
              "      <td>2020-07-06</td>\n",
              "      <td>08179d98b1e0af73ef3adf3c779ab8fde0e990f831e60b...</td>\n",
              "      <td>649439006</td>\n",
              "      <td>0.022017</td>\n",
              "      <td>1</td>\n",
              "    </tr>\n",
              "  </tbody>\n",
              "</table>\n",
              "</div>\n",
              "      <button class=\"colab-df-convert\" onclick=\"convertToInteractive('df-65933b40-5480-4964-861c-96b36e663979')\"\n",
              "              title=\"Convert this dataframe to an interactive table.\"\n",
              "              style=\"display:none;\">\n",
              "        \n",
              "  <svg xmlns=\"http://www.w3.org/2000/svg\" height=\"24px\"viewBox=\"0 0 24 24\"\n",
              "       width=\"24px\">\n",
              "    <path d=\"M0 0h24v24H0V0z\" fill=\"none\"/>\n",
              "    <path d=\"M18.56 5.44l.94 2.06.94-2.06 2.06-.94-2.06-.94-.94-2.06-.94 2.06-2.06.94zm-11 1L8.5 8.5l.94-2.06 2.06-.94-2.06-.94L8.5 2.5l-.94 2.06-2.06.94zm10 10l.94 2.06.94-2.06 2.06-.94-2.06-.94-.94-2.06-.94 2.06-2.06.94z\"/><path d=\"M17.41 7.96l-1.37-1.37c-.4-.4-.92-.59-1.43-.59-.52 0-1.04.2-1.43.59L10.3 9.45l-7.72 7.72c-.78.78-.78 2.05 0 2.83L4 21.41c.39.39.9.59 1.41.59.51 0 1.02-.2 1.41-.59l7.78-7.78 2.81-2.81c.8-.78.8-2.07 0-2.86zM5.41 20L4 18.59l7.72-7.72 1.47 1.35L5.41 20z\"/>\n",
              "  </svg>\n",
              "      </button>\n",
              "      \n",
              "  <style>\n",
              "    .colab-df-container {\n",
              "      display:flex;\n",
              "      flex-wrap:wrap;\n",
              "      gap: 12px;\n",
              "    }\n",
              "\n",
              "    .colab-df-convert {\n",
              "      background-color: #E8F0FE;\n",
              "      border: none;\n",
              "      border-radius: 50%;\n",
              "      cursor: pointer;\n",
              "      display: none;\n",
              "      fill: #1967D2;\n",
              "      height: 32px;\n",
              "      padding: 0 0 0 0;\n",
              "      width: 32px;\n",
              "    }\n",
              "\n",
              "    .colab-df-convert:hover {\n",
              "      background-color: #E2EBFA;\n",
              "      box-shadow: 0px 1px 2px rgba(60, 64, 67, 0.3), 0px 1px 3px 1px rgba(60, 64, 67, 0.15);\n",
              "      fill: #174EA6;\n",
              "    }\n",
              "\n",
              "    [theme=dark] .colab-df-convert {\n",
              "      background-color: #3B4455;\n",
              "      fill: #D2E3FC;\n",
              "    }\n",
              "\n",
              "    [theme=dark] .colab-df-convert:hover {\n",
              "      background-color: #434B5C;\n",
              "      box-shadow: 0px 1px 3px 1px rgba(0, 0, 0, 0.15);\n",
              "      filter: drop-shadow(0px 1px 2px rgba(0, 0, 0, 0.3));\n",
              "      fill: #FFFFFF;\n",
              "    }\n",
              "  </style>\n",
              "\n",
              "      <script>\n",
              "        const buttonEl =\n",
              "          document.querySelector('#df-65933b40-5480-4964-861c-96b36e663979 button.colab-df-convert');\n",
              "        buttonEl.style.display =\n",
              "          google.colab.kernel.accessAllowed ? 'block' : 'none';\n",
              "\n",
              "        async function convertToInteractive(key) {\n",
              "          const element = document.querySelector('#df-65933b40-5480-4964-861c-96b36e663979');\n",
              "          const dataTable =\n",
              "            await google.colab.kernel.invokeFunction('convertToInteractive',\n",
              "                                                     [key], {});\n",
              "          if (!dataTable) return;\n",
              "\n",
              "          const docLinkHtml = 'Like what you see? Visit the ' +\n",
              "            '<a target=\"_blank\" href=https://colab.research.google.com/notebooks/data_table.ipynb>data table notebook</a>'\n",
              "            + ' to learn more about interactive tables.';\n",
              "          element.innerHTML = '';\n",
              "          dataTable['output_type'] = 'display_data';\n",
              "          await google.colab.output.renderOutput(dataTable, element);\n",
              "          const docLink = document.createElement('div');\n",
              "          docLink.innerHTML = docLinkHtml;\n",
              "          element.appendChild(docLink);\n",
              "        }\n",
              "      </script>\n",
              "    </div>\n",
              "  </div>\n",
              "  "
            ]
          },
          "metadata": {},
          "execution_count": 11
        }
      ],
      "source": [
        "hm_df.head()"
      ],
      "id": "59c1b8ea"
    },
    {
      "cell_type": "code",
      "execution_count": null,
      "metadata": {
        "id": "2749e9b8",
        "colab": {
          "base_uri": "https://localhost:8080/"
        },
        "outputId": "f9e1c2aa-8661-4696-dd31-2c8b6797e377"
      },
      "outputs": [
        {
          "output_type": "execute_result",
          "data": {
            "text/plain": [
              "(3134281, 5)"
            ]
          },
          "metadata": {},
          "execution_count": 12
        }
      ],
      "source": [
        "hm_df.shape"
      ],
      "id": "2749e9b8"
    },
    {
      "cell_type": "code",
      "source": [
        "hm_df.duplicated().sum()"
      ],
      "metadata": {
        "colab": {
          "base_uri": "https://localhost:8080/"
        },
        "id": "ZOYtort9B8HR",
        "outputId": "8894327e-f826-40ee-e3c4-999639b6c3f6"
      },
      "id": "ZOYtort9B8HR",
      "execution_count": null,
      "outputs": [
        {
          "output_type": "execute_result",
          "data": {
            "text/plain": [
              "2974905"
            ]
          },
          "metadata": {},
          "execution_count": 7
        }
      ]
    },
    {
      "cell_type": "code",
      "source": [
        "hm_df.nunique()"
      ],
      "metadata": {
        "colab": {
          "base_uri": "https://localhost:8080/"
        },
        "id": "BYO16TN2Ck14",
        "outputId": "dce4c889-dfb2-4571-95eb-12887eb62e29"
      },
      "id": "BYO16TN2Ck14",
      "execution_count": null,
      "outputs": [
        {
          "output_type": "execute_result",
          "data": {
            "text/plain": [
              "t_dat                   734\n",
              "customer_id         1362281\n",
              "article_id           104547\n",
              "price                  9857\n",
              "sales_channel_id          2\n",
              "dtype: int64"
            ]
          },
          "metadata": {},
          "execution_count": 10
        }
      ]
    },
    {
      "cell_type": "code",
      "source": [
        "sorted_df = pd.read_csv(os.path.join(PROJ_DIR,'sorted_events.csv'))"
      ],
      "metadata": {
        "id": "XqljtxCjCOCH"
      },
      "id": "XqljtxCjCOCH",
      "execution_count": null,
      "outputs": []
    },
    {
      "cell_type": "code",
      "source": [
        "sorted_df.nunique()"
      ],
      "metadata": {
        "colab": {
          "base_uri": "https://localhost:8080/"
        },
        "id": "W2OUyujujgLy",
        "outputId": "e2397e37-ec90-4e13-ef68-845c703442c3"
      },
      "id": "W2OUyujujgLy",
      "execution_count": null,
      "outputs": [
        {
          "output_type": "execute_result",
          "data": {
            "text/plain": [
              "t_dat              734\n",
              "customer_id    1082032\n",
              "article_id       96404\n",
              "price             9842\n",
              "is_buy               2\n",
              "dtype: int64"
            ]
          },
          "metadata": {},
          "execution_count": 5
        }
      ]
    },
    {
      "cell_type": "code",
      "source": [
        "sorted_df.duplicated().sum()"
      ],
      "metadata": {
        "colab": {
          "base_uri": "https://localhost:8080/"
        },
        "id": "t5LTfEQvClzW",
        "outputId": "ad4de216-d779-48f3-96c4-31b662380ae6"
      },
      "id": "t5LTfEQvClzW",
      "execution_count": null,
      "outputs": [
        {
          "output_type": "execute_result",
          "data": {
            "text/plain": [
              "2959533"
            ]
          },
          "metadata": {},
          "execution_count": 9
        }
      ]
    },
    {
      "cell_type": "code",
      "source": [
        "sorted_df.shape"
      ],
      "metadata": {
        "colab": {
          "base_uri": "https://localhost:8080/"
        },
        "id": "MurgTOn3DEl5",
        "outputId": "19f042e2-7471-4970-d25f-0cb830f5158d"
      },
      "id": "MurgTOn3DEl5",
      "execution_count": null,
      "outputs": [
        {
          "output_type": "execute_result",
          "data": {
            "text/plain": [
              "(31363594, 5)"
            ]
          },
          "metadata": {},
          "execution_count": 10
        }
      ]
    },
    {
      "cell_type": "code",
      "source": [
        "sorted_df.duplicated().sum()"
      ],
      "metadata": {
        "colab": {
          "base_uri": "https://localhost:8080/"
        },
        "id": "GxUhc7lmDHh3",
        "outputId": "3070b055-a9f2-482a-fa86-3ce126c7e0fd"
      },
      "id": "GxUhc7lmDHh3",
      "execution_count": null,
      "outputs": [
        {
          "output_type": "execute_result",
          "data": {
            "text/plain": [
              "0"
            ]
          },
          "metadata": {},
          "execution_count": 5
        }
      ]
    },
    {
      "cell_type": "code",
      "source": [
        "sorted_df.shape"
      ],
      "metadata": {
        "colab": {
          "base_uri": "https://localhost:8080/"
        },
        "id": "AQcX3jLfFxwL",
        "outputId": "a0512b10-4f15-4f67-8183-a23d24c3d9b2"
      },
      "id": "AQcX3jLfFxwL",
      "execution_count": null,
      "outputs": [
        {
          "output_type": "execute_result",
          "data": {
            "text/plain": [
              "(28390487, 5)"
            ]
          },
          "metadata": {},
          "execution_count": 6
        }
      ]
    },
    {
      "cell_type": "code",
      "execution_count": null,
      "metadata": {
        "id": "948d13cf",
        "outputId": "9bd4c732-03b6-4ccf-a5a0-85d892cf089b"
      },
      "outputs": [
        {
          "data": {
            "text/plain": [
              "t_dat                   734\n",
              "customer_id         1362281\n",
              "article_id           104547\n",
              "price                  9857\n",
              "sales_channel_id          2\n",
              "dtype: int64"
            ]
          },
          "execution_count": 5,
          "metadata": {},
          "output_type": "execute_result"
        }
      ],
      "source": [
        "##hm_df.nunique()"
      ],
      "id": "948d13cf"
    },
    {
      "cell_type": "code",
      "source": [],
      "metadata": {
        "id": "0RdGhGoBiA9y"
      },
      "id": "0RdGhGoBiA9y",
      "execution_count": null,
      "outputs": []
    },
    {
      "cell_type": "code",
      "source": [
        "train_sessions.nunique()"
      ],
      "metadata": {
        "colab": {
          "base_uri": "https://localhost:8080/"
        },
        "id": "H36q8qMNidT7",
        "outputId": "f03f2b59-be42-43b6-ad4c-78e7d12fcbd2"
      },
      "id": "H36q8qMNidT7",
      "execution_count": null,
      "outputs": [
        {
          "output_type": "execute_result",
          "data": {
            "text/plain": [
              "t_dat             734\n",
              "customer_id    865625\n",
              "article_id      96370\n",
              "price            9454\n",
              "is_buy              2\n",
              "dtype: int64"
            ]
          },
          "metadata": {},
          "execution_count": 15
        }
      ]
    },
    {
      "cell_type": "code",
      "execution_count": null,
      "metadata": {
        "id": "4fc33464"
      },
      "outputs": [],
      "source": [
        "hm_df.isnull().sum()"
      ],
      "id": "4fc33464"
    },
    {
      "cell_type": "code",
      "execution_count": null,
      "metadata": {
        "id": "5727f2dc"
      },
      "outputs": [],
      "source": [
        "## No missing values "
      ],
      "id": "5727f2dc"
    },
    {
      "cell_type": "code",
      "execution_count": null,
      "metadata": {
        "id": "b1ddb485"
      },
      "outputs": [],
      "source": [
        "hm_df['sales_channel_id'].value_counts()"
      ],
      "id": "b1ddb485"
    },
    {
      "cell_type": "code",
      "execution_count": null,
      "metadata": {
        "id": "0ecf67de"
      },
      "outputs": [],
      "source": [
        "## beginning preprocessing "
      ],
      "id": "0ecf67de"
    },
    {
      "cell_type": "code",
      "source": [
        "num_of_rows = 5000000\n",
        "transactions = pd.read_csv(\"transactions_train.csv\", skiprows=range(1, 30654044 - num_of_rows))"
      ],
      "metadata": {
        "id": "u8M6bVLcEPIs"
      },
      "id": "u8M6bVLcEPIs",
      "execution_count": null,
      "outputs": []
    },
    {
      "cell_type": "code",
      "source": [
        "transactions.to_csv('transactions_train_small.csv', index = False)"
      ],
      "metadata": {
        "id": "9NNInHX7EWVB"
      },
      "id": "9NNInHX7EWVB",
      "execution_count": null,
      "outputs": []
    },
    {
      "cell_type": "code",
      "execution_count": null,
      "metadata": {
        "colab": {
          "base_uri": "https://localhost:8080/"
        },
        "id": "e880ae7d",
        "outputId": "dc52b8bd-d5ff-4e1d-b652-4a83d745c109"
      },
      "outputs": [
        {
          "output_type": "stream",
          "name": "stdout",
          "text": [
            "2023-05-02 23:30:21.367041: I tensorflow/core/platform/cpu_feature_guard.cc:182] This TensorFlow binary is optimized to use available CPU instructions in performance-critical operations.\n",
            "To enable the following instructions: AVX2 FMA, in other operations, rebuild TensorFlow with the appropriate compiler flags.\n",
            "2023-05-02 23:30:24.215449: W tensorflow/compiler/tf2tensorrt/utils/py_utils.cc:38] TF-TRT Warning: Could not find TensorRT\n",
            "Starting pre-processing of data\n",
            "Completed data cleaning and generated sorted_events.csv file \n",
            "\n",
            "Sampled the dataset for training and test \n",
            "\n",
            "\n",
            "Script completed successfully!\n"
          ]
        }
      ],
      "source": [
        "! python pre_processing.py --data='data'"
      ],
      "id": "e880ae7d"
    },
    {
      "cell_type": "code",
      "execution_count": null,
      "metadata": {
        "colab": {
          "base_uri": "https://localhost:8080/"
        },
        "id": "b2ce1934",
        "outputId": "3a7416ca-26f4-4d13-a72b-1dca659c63a4"
      },
      "outputs": [
        {
          "output_type": "stream",
          "name": "stdout",
          "text": [
            "2023-05-02 23:31:38.954896: I tensorflow/core/platform/cpu_feature_guard.cc:182] This TensorFlow binary is optimized to use available CPU instructions in performance-critical operations.\n",
            "To enable the following instructions: AVX2 FMA, in other operations, rebuild TensorFlow with the appropriate compiler flags.\n",
            "2023-05-02 23:31:41.045089: W tensorflow/compiler/tf2tensorrt/utils/py_utils.cc:38] TF-TRT Warning: Could not find TensorRT\n",
            "Generating replay_buffer from sorted_events\n",
            "There are 390704 ids to process\n",
            "100% 390704/390704 [07:01<00:00, 926.73it/s] \n",
            "Generated the replay_buffer \n",
            "\n",
            "Generated the data_statis.df \n",
            "\n",
            "\n",
            "Script completed successfully!\n"
          ]
        }
      ],
      "source": [
        "! python replay_buffer.py --data='data'"
      ],
      "id": "b2ce1934"
    },
    {
      "cell_type": "code",
      "execution_count": null,
      "metadata": {
        "id": "264a5b47",
        "colab": {
          "base_uri": "https://localhost:8080/"
        },
        "outputId": "9faa43cb-6543-4a47-a610-052dd2706550"
      },
      "outputs": [
        {
          "output_type": "stream",
          "name": "stdout",
          "text": [
            "Calculating the item popularity \n",
            " \n",
            "6.0\n",
            "48.0\n",
            "38.0\n",
            "41.0\n",
            "30.0\n",
            "58.0\n",
            "53.0\n",
            "25.0\n",
            "5.0\n",
            "18.0\n",
            "9.0\n",
            "17.0\n",
            "33.0\n",
            "51.0\n",
            "59.0\n",
            "27.0\n",
            "16.0\n",
            "2.0\n",
            "45.0\n",
            "21.0\n",
            "55.0\n",
            "31.0\n",
            "44.0\n",
            "43.0\n",
            "10.0\n",
            "46.0\n",
            "4.0\n",
            "42.0\n",
            "52.0\n",
            "26.0\n",
            "57.0\n",
            "8.0\n",
            "11.0\n",
            "36.0\n",
            "34.0\n",
            "3.0\n",
            "22.0\n",
            "39.0\n",
            "50.0\n",
            "20.0\n",
            "23.0\n",
            "29.0\n",
            "15.0\n",
            "35.0\n",
            "49.0\n",
            "54.0\n",
            "24.0\n",
            "40.0\n",
            "37.0\n",
            "1.0\n",
            "7.0\n",
            "28.0\n",
            "56.0\n",
            "61.0\n",
            "60.0\n"
          ]
        }
      ],
      "source": [
        "! python pop.py --data='data'"
      ],
      "id": "264a5b47"
    },
    {
      "cell_type": "code",
      "execution_count": null,
      "metadata": {
        "id": "fa2471a2",
        "colab": {
          "base_uri": "https://localhost:8080/",
          "height": 318
        },
        "outputId": "43115e33-452a-4b5b-c657-13ee7ce6e86b"
      },
      "outputs": [
        {
          "output_type": "error",
          "ename": "FileNotFoundError",
          "evalue": "ignored",
          "traceback": [
            "\u001b[0;31m---------------------------------------------------------------------------\u001b[0m",
            "\u001b[0;31mFileNotFoundError\u001b[0m                         Traceback (most recent call last)",
            "\u001b[0;32m<ipython-input-11-a06c64314114>\u001b[0m in \u001b[0;36m<cell line: 1>\u001b[0;34m()\u001b[0m\n\u001b[0;32m----> 1\u001b[0;31m \u001b[0msampled_train\u001b[0m \u001b[0;34m=\u001b[0m \u001b[0mpd\u001b[0m\u001b[0;34m.\u001b[0m\u001b[0mread_pickle\u001b[0m\u001b[0;34m(\u001b[0m\u001b[0mos\u001b[0m\u001b[0;34m.\u001b[0m\u001b[0mpath\u001b[0m\u001b[0;34m.\u001b[0m\u001b[0mjoin\u001b[0m\u001b[0;34m(\u001b[0m\u001b[0mPROJ_DIR\u001b[0m\u001b[0;34m,\u001b[0m\u001b[0;34m'data/sampled_train.df'\u001b[0m\u001b[0;34m)\u001b[0m\u001b[0;34m)\u001b[0m\u001b[0;34m\u001b[0m\u001b[0;34m\u001b[0m\u001b[0m\n\u001b[0m",
            "\u001b[0;32m/usr/local/lib/python3.10/dist-packages/pandas/io/pickle.py\u001b[0m in \u001b[0;36mread_pickle\u001b[0;34m(filepath_or_buffer, compression, storage_options)\u001b[0m\n\u001b[1;32m    188\u001b[0m     \"\"\"\n\u001b[1;32m    189\u001b[0m     \u001b[0mexcs_to_catch\u001b[0m \u001b[0;34m=\u001b[0m \u001b[0;34m(\u001b[0m\u001b[0mAttributeError\u001b[0m\u001b[0;34m,\u001b[0m \u001b[0mImportError\u001b[0m\u001b[0;34m,\u001b[0m \u001b[0mModuleNotFoundError\u001b[0m\u001b[0;34m,\u001b[0m \u001b[0mTypeError\u001b[0m\u001b[0;34m)\u001b[0m\u001b[0;34m\u001b[0m\u001b[0;34m\u001b[0m\u001b[0m\n\u001b[0;32m--> 190\u001b[0;31m     with get_handle(\n\u001b[0m\u001b[1;32m    191\u001b[0m         \u001b[0mfilepath_or_buffer\u001b[0m\u001b[0;34m,\u001b[0m\u001b[0;34m\u001b[0m\u001b[0;34m\u001b[0m\u001b[0m\n\u001b[1;32m    192\u001b[0m         \u001b[0;34m\"rb\"\u001b[0m\u001b[0;34m,\u001b[0m\u001b[0;34m\u001b[0m\u001b[0;34m\u001b[0m\u001b[0m\n",
            "\u001b[0;32m/usr/local/lib/python3.10/dist-packages/pandas/io/common.py\u001b[0m in \u001b[0;36mget_handle\u001b[0;34m(path_or_buf, mode, encoding, compression, memory_map, is_text, errors, storage_options)\u001b[0m\n\u001b[1;32m    863\u001b[0m         \u001b[0;32melse\u001b[0m\u001b[0;34m:\u001b[0m\u001b[0;34m\u001b[0m\u001b[0;34m\u001b[0m\u001b[0m\n\u001b[1;32m    864\u001b[0m             \u001b[0;31m# Binary mode\u001b[0m\u001b[0;34m\u001b[0m\u001b[0;34m\u001b[0m\u001b[0m\n\u001b[0;32m--> 865\u001b[0;31m             \u001b[0mhandle\u001b[0m \u001b[0;34m=\u001b[0m \u001b[0mopen\u001b[0m\u001b[0;34m(\u001b[0m\u001b[0mhandle\u001b[0m\u001b[0;34m,\u001b[0m \u001b[0mioargs\u001b[0m\u001b[0;34m.\u001b[0m\u001b[0mmode\u001b[0m\u001b[0;34m)\u001b[0m\u001b[0;34m\u001b[0m\u001b[0;34m\u001b[0m\u001b[0m\n\u001b[0m\u001b[1;32m    866\u001b[0m         \u001b[0mhandles\u001b[0m\u001b[0;34m.\u001b[0m\u001b[0mappend\u001b[0m\u001b[0;34m(\u001b[0m\u001b[0mhandle\u001b[0m\u001b[0;34m)\u001b[0m\u001b[0;34m\u001b[0m\u001b[0;34m\u001b[0m\u001b[0m\n\u001b[1;32m    867\u001b[0m \u001b[0;34m\u001b[0m\u001b[0m\n",
            "\u001b[0;31mFileNotFoundError\u001b[0m: [Errno 2] No such file or directory: '/content/drive/MyDrive/Colab Notebooks/AIPI 531/Final Project/SA2C_code/HM/data/data/sampled_train.df'"
          ]
        }
      ],
      "source": [
        "sampled_train = pd.read_pickle(os.path.join(PROJ_DIR,'data/sampled_train.df'))"
      ],
      "id": "fa2471a2"
    },
    {
      "cell_type": "code",
      "source": [
        "sampled_train.head()"
      ],
      "metadata": {
        "colab": {
          "base_uri": "https://localhost:8080/",
          "height": 206
        },
        "id": "VeNLWFACi2iP",
        "outputId": "5b3ce51b-b5ef-47c5-a405-59a6f03fa8b4"
      },
      "id": "VeNLWFACi2iP",
      "execution_count": null,
      "outputs": [
        {
          "output_type": "execute_result",
          "data": {
            "text/plain": [
              "               t_dat  customer_id  article_id     price  is_buy\n",
              "4212358   2018-12-27            0       24797  0.044051       0\n",
              "4212359   2018-12-27            0          89  0.035576       0\n",
              "4212360   2018-12-27            0       25562  0.030492       0\n",
              "9663224   2019-05-02            0       45078  0.010153       1\n",
              "10754876  2019-05-25            0       13162  0.050831       1"
            ],
            "text/html": [
              "\n",
              "  <div id=\"df-7ba6c280-9b81-4b51-914a-22be0175e9eb\">\n",
              "    <div class=\"colab-df-container\">\n",
              "      <div>\n",
              "<style scoped>\n",
              "    .dataframe tbody tr th:only-of-type {\n",
              "        vertical-align: middle;\n",
              "    }\n",
              "\n",
              "    .dataframe tbody tr th {\n",
              "        vertical-align: top;\n",
              "    }\n",
              "\n",
              "    .dataframe thead th {\n",
              "        text-align: right;\n",
              "    }\n",
              "</style>\n",
              "<table border=\"1\" class=\"dataframe\">\n",
              "  <thead>\n",
              "    <tr style=\"text-align: right;\">\n",
              "      <th></th>\n",
              "      <th>t_dat</th>\n",
              "      <th>customer_id</th>\n",
              "      <th>article_id</th>\n",
              "      <th>price</th>\n",
              "      <th>is_buy</th>\n",
              "    </tr>\n",
              "  </thead>\n",
              "  <tbody>\n",
              "    <tr>\n",
              "      <th>4212358</th>\n",
              "      <td>2018-12-27</td>\n",
              "      <td>0</td>\n",
              "      <td>24797</td>\n",
              "      <td>0.044051</td>\n",
              "      <td>0</td>\n",
              "    </tr>\n",
              "    <tr>\n",
              "      <th>4212359</th>\n",
              "      <td>2018-12-27</td>\n",
              "      <td>0</td>\n",
              "      <td>89</td>\n",
              "      <td>0.035576</td>\n",
              "      <td>0</td>\n",
              "    </tr>\n",
              "    <tr>\n",
              "      <th>4212360</th>\n",
              "      <td>2018-12-27</td>\n",
              "      <td>0</td>\n",
              "      <td>25562</td>\n",
              "      <td>0.030492</td>\n",
              "      <td>0</td>\n",
              "    </tr>\n",
              "    <tr>\n",
              "      <th>9663224</th>\n",
              "      <td>2019-05-02</td>\n",
              "      <td>0</td>\n",
              "      <td>45078</td>\n",
              "      <td>0.010153</td>\n",
              "      <td>1</td>\n",
              "    </tr>\n",
              "    <tr>\n",
              "      <th>10754876</th>\n",
              "      <td>2019-05-25</td>\n",
              "      <td>0</td>\n",
              "      <td>13162</td>\n",
              "      <td>0.050831</td>\n",
              "      <td>1</td>\n",
              "    </tr>\n",
              "  </tbody>\n",
              "</table>\n",
              "</div>\n",
              "      <button class=\"colab-df-convert\" onclick=\"convertToInteractive('df-7ba6c280-9b81-4b51-914a-22be0175e9eb')\"\n",
              "              title=\"Convert this dataframe to an interactive table.\"\n",
              "              style=\"display:none;\">\n",
              "        \n",
              "  <svg xmlns=\"http://www.w3.org/2000/svg\" height=\"24px\"viewBox=\"0 0 24 24\"\n",
              "       width=\"24px\">\n",
              "    <path d=\"M0 0h24v24H0V0z\" fill=\"none\"/>\n",
              "    <path d=\"M18.56 5.44l.94 2.06.94-2.06 2.06-.94-2.06-.94-.94-2.06-.94 2.06-2.06.94zm-11 1L8.5 8.5l.94-2.06 2.06-.94-2.06-.94L8.5 2.5l-.94 2.06-2.06.94zm10 10l.94 2.06.94-2.06 2.06-.94-2.06-.94-.94-2.06-.94 2.06-2.06.94z\"/><path d=\"M17.41 7.96l-1.37-1.37c-.4-.4-.92-.59-1.43-.59-.52 0-1.04.2-1.43.59L10.3 9.45l-7.72 7.72c-.78.78-.78 2.05 0 2.83L4 21.41c.39.39.9.59 1.41.59.51 0 1.02-.2 1.41-.59l7.78-7.78 2.81-2.81c.8-.78.8-2.07 0-2.86zM5.41 20L4 18.59l7.72-7.72 1.47 1.35L5.41 20z\"/>\n",
              "  </svg>\n",
              "      </button>\n",
              "      \n",
              "  <style>\n",
              "    .colab-df-container {\n",
              "      display:flex;\n",
              "      flex-wrap:wrap;\n",
              "      gap: 12px;\n",
              "    }\n",
              "\n",
              "    .colab-df-convert {\n",
              "      background-color: #E8F0FE;\n",
              "      border: none;\n",
              "      border-radius: 50%;\n",
              "      cursor: pointer;\n",
              "      display: none;\n",
              "      fill: #1967D2;\n",
              "      height: 32px;\n",
              "      padding: 0 0 0 0;\n",
              "      width: 32px;\n",
              "    }\n",
              "\n",
              "    .colab-df-convert:hover {\n",
              "      background-color: #E2EBFA;\n",
              "      box-shadow: 0px 1px 2px rgba(60, 64, 67, 0.3), 0px 1px 3px 1px rgba(60, 64, 67, 0.15);\n",
              "      fill: #174EA6;\n",
              "    }\n",
              "\n",
              "    [theme=dark] .colab-df-convert {\n",
              "      background-color: #3B4455;\n",
              "      fill: #D2E3FC;\n",
              "    }\n",
              "\n",
              "    [theme=dark] .colab-df-convert:hover {\n",
              "      background-color: #434B5C;\n",
              "      box-shadow: 0px 1px 3px 1px rgba(0, 0, 0, 0.15);\n",
              "      filter: drop-shadow(0px 1px 2px rgba(0, 0, 0, 0.3));\n",
              "      fill: #FFFFFF;\n",
              "    }\n",
              "  </style>\n",
              "\n",
              "      <script>\n",
              "        const buttonEl =\n",
              "          document.querySelector('#df-7ba6c280-9b81-4b51-914a-22be0175e9eb button.colab-df-convert');\n",
              "        buttonEl.style.display =\n",
              "          google.colab.kernel.accessAllowed ? 'block' : 'none';\n",
              "\n",
              "        async function convertToInteractive(key) {\n",
              "          const element = document.querySelector('#df-7ba6c280-9b81-4b51-914a-22be0175e9eb');\n",
              "          const dataTable =\n",
              "            await google.colab.kernel.invokeFunction('convertToInteractive',\n",
              "                                                     [key], {});\n",
              "          if (!dataTable) return;\n",
              "\n",
              "          const docLinkHtml = 'Like what you see? Visit the ' +\n",
              "            '<a target=\"_blank\" href=https://colab.research.google.com/notebooks/data_table.ipynb>data table notebook</a>'\n",
              "            + ' to learn more about interactive tables.';\n",
              "          element.innerHTML = '';\n",
              "          dataTable['output_type'] = 'display_data';\n",
              "          await google.colab.output.renderOutput(dataTable, element);\n",
              "          const docLink = document.createElement('div');\n",
              "          docLink.innerHTML = docLinkHtml;\n",
              "          element.appendChild(docLink);\n",
              "        }\n",
              "      </script>\n",
              "    </div>\n",
              "  </div>\n",
              "  "
            ]
          },
          "metadata": {},
          "execution_count": 17
        }
      ]
    },
    {
      "cell_type": "code",
      "source": [
        "eval_sessions=pd.read_pickle(os.path.join('./data', 'sampled_val.df'))"
      ],
      "metadata": {
        "id": "J3NipxY1i-lv"
      },
      "id": "J3NipxY1i-lv",
      "execution_count": null,
      "outputs": []
    },
    {
      "cell_type": "code",
      "source": [
        "eval_sessions"
      ],
      "metadata": {
        "colab": {
          "base_uri": "https://localhost:8080/",
          "height": 423
        },
        "id": "I4BJVIlwwQqk",
        "outputId": "e222e492-fb27-446d-bde2-4e11e13061ce"
      },
      "id": "I4BJVIlwwQqk",
      "execution_count": null,
      "outputs": [
        {
          "output_type": "execute_result",
          "data": {
            "text/plain": [
              "              t_dat  customer_id  article_id     price  is_buy\n",
              "3763242  2020-04-11            4        8774  0.008119       1\n",
              "3763243  2020-04-11            4         553  0.013542       1\n",
              "3763244  2020-04-11            4       14700  0.017610       1\n",
              "3763245  2020-04-11            4          47  0.010831       1\n",
              "3763246  2020-04-11            4       38303  0.013542       1\n",
              "...             ...          ...         ...       ...     ...\n",
              "7077487  2020-06-21       675148       40726  0.011847       1\n",
              "7077488  2020-06-21       675148       41628  0.022017       1\n",
              "7686162  2020-06-29       675148       34352  0.022017       1\n",
              "7686163  2020-06-29       675148       32244  0.022017       1\n",
              "7686164  2020-06-29       675148       32245  0.033881       1\n",
              "\n",
              "[977776 rows x 5 columns]"
            ],
            "text/html": [
              "\n",
              "  <div id=\"df-c2b85333-2def-4987-a36a-21f4e06aaca1\">\n",
              "    <div class=\"colab-df-container\">\n",
              "      <div>\n",
              "<style scoped>\n",
              "    .dataframe tbody tr th:only-of-type {\n",
              "        vertical-align: middle;\n",
              "    }\n",
              "\n",
              "    .dataframe tbody tr th {\n",
              "        vertical-align: top;\n",
              "    }\n",
              "\n",
              "    .dataframe thead th {\n",
              "        text-align: right;\n",
              "    }\n",
              "</style>\n",
              "<table border=\"1\" class=\"dataframe\">\n",
              "  <thead>\n",
              "    <tr style=\"text-align: right;\">\n",
              "      <th></th>\n",
              "      <th>t_dat</th>\n",
              "      <th>customer_id</th>\n",
              "      <th>article_id</th>\n",
              "      <th>price</th>\n",
              "      <th>is_buy</th>\n",
              "    </tr>\n",
              "  </thead>\n",
              "  <tbody>\n",
              "    <tr>\n",
              "      <th>3763242</th>\n",
              "      <td>2020-04-11</td>\n",
              "      <td>4</td>\n",
              "      <td>8774</td>\n",
              "      <td>0.008119</td>\n",
              "      <td>1</td>\n",
              "    </tr>\n",
              "    <tr>\n",
              "      <th>3763243</th>\n",
              "      <td>2020-04-11</td>\n",
              "      <td>4</td>\n",
              "      <td>553</td>\n",
              "      <td>0.013542</td>\n",
              "      <td>1</td>\n",
              "    </tr>\n",
              "    <tr>\n",
              "      <th>3763244</th>\n",
              "      <td>2020-04-11</td>\n",
              "      <td>4</td>\n",
              "      <td>14700</td>\n",
              "      <td>0.017610</td>\n",
              "      <td>1</td>\n",
              "    </tr>\n",
              "    <tr>\n",
              "      <th>3763245</th>\n",
              "      <td>2020-04-11</td>\n",
              "      <td>4</td>\n",
              "      <td>47</td>\n",
              "      <td>0.010831</td>\n",
              "      <td>1</td>\n",
              "    </tr>\n",
              "    <tr>\n",
              "      <th>3763246</th>\n",
              "      <td>2020-04-11</td>\n",
              "      <td>4</td>\n",
              "      <td>38303</td>\n",
              "      <td>0.013542</td>\n",
              "      <td>1</td>\n",
              "    </tr>\n",
              "    <tr>\n",
              "      <th>...</th>\n",
              "      <td>...</td>\n",
              "      <td>...</td>\n",
              "      <td>...</td>\n",
              "      <td>...</td>\n",
              "      <td>...</td>\n",
              "    </tr>\n",
              "    <tr>\n",
              "      <th>7077487</th>\n",
              "      <td>2020-06-21</td>\n",
              "      <td>675148</td>\n",
              "      <td>40726</td>\n",
              "      <td>0.011847</td>\n",
              "      <td>1</td>\n",
              "    </tr>\n",
              "    <tr>\n",
              "      <th>7077488</th>\n",
              "      <td>2020-06-21</td>\n",
              "      <td>675148</td>\n",
              "      <td>41628</td>\n",
              "      <td>0.022017</td>\n",
              "      <td>1</td>\n",
              "    </tr>\n",
              "    <tr>\n",
              "      <th>7686162</th>\n",
              "      <td>2020-06-29</td>\n",
              "      <td>675148</td>\n",
              "      <td>34352</td>\n",
              "      <td>0.022017</td>\n",
              "      <td>1</td>\n",
              "    </tr>\n",
              "    <tr>\n",
              "      <th>7686163</th>\n",
              "      <td>2020-06-29</td>\n",
              "      <td>675148</td>\n",
              "      <td>32244</td>\n",
              "      <td>0.022017</td>\n",
              "      <td>1</td>\n",
              "    </tr>\n",
              "    <tr>\n",
              "      <th>7686164</th>\n",
              "      <td>2020-06-29</td>\n",
              "      <td>675148</td>\n",
              "      <td>32245</td>\n",
              "      <td>0.033881</td>\n",
              "      <td>1</td>\n",
              "    </tr>\n",
              "  </tbody>\n",
              "</table>\n",
              "<p>977776 rows × 5 columns</p>\n",
              "</div>\n",
              "      <button class=\"colab-df-convert\" onclick=\"convertToInteractive('df-c2b85333-2def-4987-a36a-21f4e06aaca1')\"\n",
              "              title=\"Convert this dataframe to an interactive table.\"\n",
              "              style=\"display:none;\">\n",
              "        \n",
              "  <svg xmlns=\"http://www.w3.org/2000/svg\" height=\"24px\"viewBox=\"0 0 24 24\"\n",
              "       width=\"24px\">\n",
              "    <path d=\"M0 0h24v24H0V0z\" fill=\"none\"/>\n",
              "    <path d=\"M18.56 5.44l.94 2.06.94-2.06 2.06-.94-2.06-.94-.94-2.06-.94 2.06-2.06.94zm-11 1L8.5 8.5l.94-2.06 2.06-.94-2.06-.94L8.5 2.5l-.94 2.06-2.06.94zm10 10l.94 2.06.94-2.06 2.06-.94-2.06-.94-.94-2.06-.94 2.06-2.06.94z\"/><path d=\"M17.41 7.96l-1.37-1.37c-.4-.4-.92-.59-1.43-.59-.52 0-1.04.2-1.43.59L10.3 9.45l-7.72 7.72c-.78.78-.78 2.05 0 2.83L4 21.41c.39.39.9.59 1.41.59.51 0 1.02-.2 1.41-.59l7.78-7.78 2.81-2.81c.8-.78.8-2.07 0-2.86zM5.41 20L4 18.59l7.72-7.72 1.47 1.35L5.41 20z\"/>\n",
              "  </svg>\n",
              "      </button>\n",
              "      \n",
              "  <style>\n",
              "    .colab-df-container {\n",
              "      display:flex;\n",
              "      flex-wrap:wrap;\n",
              "      gap: 12px;\n",
              "    }\n",
              "\n",
              "    .colab-df-convert {\n",
              "      background-color: #E8F0FE;\n",
              "      border: none;\n",
              "      border-radius: 50%;\n",
              "      cursor: pointer;\n",
              "      display: none;\n",
              "      fill: #1967D2;\n",
              "      height: 32px;\n",
              "      padding: 0 0 0 0;\n",
              "      width: 32px;\n",
              "    }\n",
              "\n",
              "    .colab-df-convert:hover {\n",
              "      background-color: #E2EBFA;\n",
              "      box-shadow: 0px 1px 2px rgba(60, 64, 67, 0.3), 0px 1px 3px 1px rgba(60, 64, 67, 0.15);\n",
              "      fill: #174EA6;\n",
              "    }\n",
              "\n",
              "    [theme=dark] .colab-df-convert {\n",
              "      background-color: #3B4455;\n",
              "      fill: #D2E3FC;\n",
              "    }\n",
              "\n",
              "    [theme=dark] .colab-df-convert:hover {\n",
              "      background-color: #434B5C;\n",
              "      box-shadow: 0px 1px 3px 1px rgba(0, 0, 0, 0.15);\n",
              "      filter: drop-shadow(0px 1px 2px rgba(0, 0, 0, 0.3));\n",
              "      fill: #FFFFFF;\n",
              "    }\n",
              "  </style>\n",
              "\n",
              "      <script>\n",
              "        const buttonEl =\n",
              "          document.querySelector('#df-c2b85333-2def-4987-a36a-21f4e06aaca1 button.colab-df-convert');\n",
              "        buttonEl.style.display =\n",
              "          google.colab.kernel.accessAllowed ? 'block' : 'none';\n",
              "\n",
              "        async function convertToInteractive(key) {\n",
              "          const element = document.querySelector('#df-c2b85333-2def-4987-a36a-21f4e06aaca1');\n",
              "          const dataTable =\n",
              "            await google.colab.kernel.invokeFunction('convertToInteractive',\n",
              "                                                     [key], {});\n",
              "          if (!dataTable) return;\n",
              "\n",
              "          const docLinkHtml = 'Like what you see? Visit the ' +\n",
              "            '<a target=\"_blank\" href=https://colab.research.google.com/notebooks/data_table.ipynb>data table notebook</a>'\n",
              "            + ' to learn more about interactive tables.';\n",
              "          element.innerHTML = '';\n",
              "          dataTable['output_type'] = 'display_data';\n",
              "          await google.colab.output.renderOutput(dataTable, element);\n",
              "          const docLink = document.createElement('div');\n",
              "          docLink.innerHTML = docLinkHtml;\n",
              "          element.appendChild(docLink);\n",
              "        }\n",
              "      </script>\n",
              "    </div>\n",
              "  </div>\n",
              "  "
            ]
          },
          "metadata": {},
          "execution_count": 13
        }
      ]
    },
    {
      "cell_type": "code",
      "source": [
        "feature_matrix = pd.read_csv('data/features_matrix_rr.csv')"
      ],
      "metadata": {
        "id": "d_2aLgP1wVlq"
      },
      "id": "d_2aLgP1wVlq",
      "execution_count": null,
      "outputs": []
    },
    {
      "cell_type": "code",
      "source": [
        "feature_matrix = feature_matrix.reset_index()"
      ],
      "metadata": {
        "id": "Jv8jhv0D57TK"
      },
      "id": "Jv8jhv0D57TK",
      "execution_count": null,
      "outputs": []
    },
    {
      "cell_type": "code",
      "source": [
        "s_events = pd.read_pickle('data/sorted_events.df')"
      ],
      "metadata": {
        "id": "tqL2sEyi6C0c"
      },
      "id": "tqL2sEyi6C0c",
      "execution_count": null,
      "outputs": []
    },
    {
      "cell_type": "code",
      "source": [
        "feature_matrix_filtered = feature_matrix[feature_matrix['article_id'].isin(s_events.article_id.unique())]"
      ],
      "metadata": {
        "id": "l1Bd8K2g6dWS"
      },
      "id": "l1Bd8K2g6dWS",
      "execution_count": null,
      "outputs": []
    },
    {
      "cell_type": "code",
      "source": [
        "s_events.article_id.unique().min()"
      ],
      "metadata": {
        "colab": {
          "base_uri": "https://localhost:8080/"
        },
        "id": "PneY21LnAUtY",
        "outputId": "d02ceb5e-eb1d-4efc-f3d4-f650f89c986b"
      },
      "id": "PneY21LnAUtY",
      "execution_count": null,
      "outputs": [
        {
          "output_type": "execute_result",
          "data": {
            "text/plain": [
              "0"
            ]
          },
          "metadata": {},
          "execution_count": 21
        }
      ]
    },
    {
      "cell_type": "code",
      "source": [
        "feature_matrix_filtered = feature_matrix_filtered.drop(['index', 'article_id', 'prod_name'], axis = 1)\n"
      ],
      "metadata": {
        "id": "v-r3YJnu6eWH"
      },
      "id": "v-r3YJnu6eWH",
      "execution_count": null,
      "outputs": []
    },
    {
      "cell_type": "code",
      "source": [
        "feature_matrix_filtered.to_csv('feature_matrix_hm.csv', index = False)"
      ],
      "metadata": {
        "id": "h7a20hoO6xDB"
      },
      "id": "h7a20hoO6xDB",
      "execution_count": null,
      "outputs": []
    },
    {
      "cell_type": "code",
      "source": [],
      "metadata": {
        "id": "ueuBcRnxAl5T"
      },
      "id": "ueuBcRnxAl5T",
      "execution_count": null,
      "outputs": []
    }
  ],
  "metadata": {
    "colab": {
      "provenance": [],
      "include_colab_link": true
    },
    "kernelspec": {
      "display_name": "Python 3 (ipykernel)",
      "language": "python",
      "name": "python3"
    },
    "language_info": {
      "codemirror_mode": {
        "name": "ipython",
        "version": 3
      },
      "file_extension": ".py",
      "mimetype": "text/x-python",
      "name": "python",
      "nbconvert_exporter": "python",
      "pygments_lexer": "ipython3",
      "version": "3.9.12"
    }
  },
  "nbformat": 4,
  "nbformat_minor": 5
}